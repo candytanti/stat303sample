{
 "cells": [
  {
   "cell_type": "raw",
   "id": "9650927d",
   "metadata": {},
   "source": [
    "---\n",
    "title: \"Assignment 1\"\n",
    "format: \n",
    "  html:\n",
    "    toc: true\n",
    "    toc-title: Contents\n",
    "    code-fold: show\n",
    "    self-contained: true\n",
    "jupyter: python3\n",
    "---"
   ]
  },
  {
   "cell_type": "markdown",
   "id": "b9640654",
   "metadata": {},
   "source": [
    "## Instructions {-}\n",
    "\n",
    "1. You may talk to a friend, discuss the questions and potential directions for solving them. However, you need to write your own solutions and code separately, and not as a group activity. \n",
    "\n",
    "2. Do not write your name on the assignment.\n",
    "\n",
    "3. Write your code in the *Code* cells and your answer in the *Markdown* cells of the Jupyter notebook. Ensure that the solution is written neatly enough to understand and grade.\n",
    "\n",
    "4. Use [Quarto](https://quarto.org/docs/output-formats/html-basics.html) to print the *.ipynb* file as HTML. You will need to open the command prompt, navigate to the directory containing the file, and use the command: `quarto render filename.ipynb --to html`. Submit the HTML file.\n",
    "\n",
    "5. The assignment is worth 100 points, and is due on **6th October 2022 at 11:59 pm**. "
   ]
  },
  {
   "cell_type": "markdown",
   "id": "cd445613",
   "metadata": {},
   "source": [
    "# I\n",
    "USA's GDP per capita from 1960 to 2021 is given by the tuple `T` in the code cell below. The values are arranged in ascending order of the year, i.e., the first value is for 1960, the second value is for 1961, and so on."
   ]
  },
  {
   "cell_type": "code",
   "execution_count": 7,
   "id": "c7711724",
   "metadata": {},
   "outputs": [],
   "source": [
    "T = (3007, 3067, 3244, 3375,3574, 3828, 4146, 4336, 4696, 5032,5234,5609,6094,6726,7226,7801,8592,9453,10565,11674,12575,13976,14434,15544,17121,18237,19071,20039,21417,22857,23889,24342,25419,26387,27695,28691,29968,31459,32854,34515,36330,37134,37998,39490,41725,44123,46302,48050,48570,47195,48651,50066,51784,53291,55124,56763,57867,59915,62805,65095,63028,69288)"
   ]
  },
  {
   "cell_type": "markdown",
   "id": "5f88d0a2",
   "metadata": {},
   "source": [
    "## I-1.\n",
    "### I-1(a)\n",
    "Use list comprehension to produce a list of the gaps between consecutive entries in `T`, i.e, the increase in GDP per capita with respect to the previous year. The list with gaps should look like: [60, 177, ...].\n",
    "\n",
    "*(6 points)*"
   ]
  },
  {
   "cell_type": "code",
   "execution_count": 8,
   "id": "b02d96fc",
   "metadata": {},
   "outputs": [],
   "source": [
    "GDP_gaps = [T[i+1] - T[i] for i in range(len(T) - 1)]"
   ]
  },
  {
   "cell_type": "code",
   "execution_count": 9,
   "id": "ddfd7c38",
   "metadata": {
    "scrolled": true
   },
   "outputs": [
    {
     "data": {
      "text/plain": [
       "[60,\n",
       " 177,\n",
       " 131,\n",
       " 199,\n",
       " 254,\n",
       " 318,\n",
       " 190,\n",
       " 360,\n",
       " 336,\n",
       " 202,\n",
       " 375,\n",
       " 485,\n",
       " 632,\n",
       " 500,\n",
       " 575,\n",
       " 791,\n",
       " 861,\n",
       " 1112,\n",
       " 1109,\n",
       " 901,\n",
       " 1401,\n",
       " 458,\n",
       " 1110,\n",
       " 1577,\n",
       " 1116,\n",
       " 834,\n",
       " 968,\n",
       " 1378,\n",
       " 1440,\n",
       " 1032,\n",
       " 453,\n",
       " 1077,\n",
       " 968,\n",
       " 1308,\n",
       " 996,\n",
       " 1277,\n",
       " 1491,\n",
       " 1395,\n",
       " 1661,\n",
       " 1815,\n",
       " 804,\n",
       " 864,\n",
       " 1492,\n",
       " 2235,\n",
       " 2398,\n",
       " 2179,\n",
       " 1748,\n",
       " 520,\n",
       " -1375,\n",
       " 1456,\n",
       " 1415,\n",
       " 1718,\n",
       " 1507,\n",
       " 1833,\n",
       " 1639,\n",
       " 1104,\n",
       " 2048,\n",
       " 2890,\n",
       " 2290,\n",
       " -2067,\n",
       " 6260]"
      ]
     },
     "execution_count": 9,
     "metadata": {},
     "output_type": "execute_result"
    }
   ],
   "source": [
    "GDP_gaps"
   ]
  },
  {
   "cell_type": "markdown",
   "id": "d8af2fb4",
   "metadata": {},
   "source": [
    "### I-1(b)\n",
    "Use the list comprehension developed in (a) to find the maximum gap size, i.e, the maximum increase in GDP per capita.\n",
    "\n",
    "*(2 points)*"
   ]
  },
  {
   "cell_type": "code",
   "execution_count": 10,
   "id": "ac22348d",
   "metadata": {},
   "outputs": [
    {
     "data": {
      "text/plain": [
       "6260"
      ]
     },
     "execution_count": 10,
     "metadata": {},
     "output_type": "execute_result"
    }
   ],
   "source": [
    "max(GDP_gaps)"
   ]
  },
  {
   "cell_type": "markdown",
   "id": "201242b9",
   "metadata": {},
   "source": [
    "The maximum gap gize is 6260"
   ]
  },
  {
   "cell_type": "markdown",
   "id": "f8333eb6",
   "metadata": {},
   "source": [
    "### I-1(c)\n",
    "Use the list comprehension developed in (a) to find the percentage of gaps higher than $1000.\n",
    "\n",
    "*(5 points)*"
   ]
  },
  {
   "cell_type": "code",
   "execution_count": 11,
   "id": "e526637a",
   "metadata": {},
   "outputs": [
    {
     "data": {
      "text/plain": [
       "0.5245901639344263"
      ]
     },
     "execution_count": 11,
     "metadata": {},
     "output_type": "execute_result"
    }
   ],
   "source": [
    "len([x for x in GDP_gaps if x > 1000]) / len(GDP_gaps)"
   ]
  },
  {
   "cell_type": "markdown",
   "id": "6c2c47f6",
   "metadata": {},
   "source": [
    "Approximately 52.459% of gaps are higher than $1000"
   ]
  },
  {
   "cell_type": "markdown",
   "id": "705ceac3",
   "metadata": {},
   "source": [
    "## I-2 \n",
    "### I-2(a)\n",
    "Create a dictionary `D`, where the `key` is the year, and `value` for the `key` is the increase in GDP per capita in that year with respect to the previous year, i.e., the gaps computed in part (1). \n",
    "\n",
    "*(6 points)*"
   ]
  },
  {
   "cell_type": "code",
   "execution_count": 12,
   "id": "bc712c34",
   "metadata": {},
   "outputs": [
    {
     "data": {
      "text/plain": [
       "{1961: 60,\n",
       " 1962: 177,\n",
       " 1963: 131,\n",
       " 1964: 199,\n",
       " 1965: 254,\n",
       " 1966: 318,\n",
       " 1967: 190,\n",
       " 1968: 360,\n",
       " 1969: 336,\n",
       " 1970: 202,\n",
       " 1971: 375,\n",
       " 1972: 485,\n",
       " 1973: 632,\n",
       " 1974: 500,\n",
       " 1975: 575,\n",
       " 1976: 791,\n",
       " 1977: 861,\n",
       " 1978: 1112,\n",
       " 1979: 1109,\n",
       " 1980: 901,\n",
       " 1981: 1401,\n",
       " 1982: 458,\n",
       " 1983: 1110,\n",
       " 1984: 1577,\n",
       " 1985: 1116,\n",
       " 1986: 834,\n",
       " 1987: 968,\n",
       " 1988: 1378,\n",
       " 1989: 1440,\n",
       " 1990: 1032,\n",
       " 1991: 453,\n",
       " 1992: 1077,\n",
       " 1993: 968,\n",
       " 1994: 1308,\n",
       " 1995: 996,\n",
       " 1996: 1277,\n",
       " 1997: 1491,\n",
       " 1998: 1395,\n",
       " 1999: 1661,\n",
       " 2000: 1815,\n",
       " 2001: 804,\n",
       " 2002: 864,\n",
       " 2003: 1492,\n",
       " 2004: 2235,\n",
       " 2005: 2398,\n",
       " 2006: 2179,\n",
       " 2007: 1748,\n",
       " 2008: 520,\n",
       " 2009: -1375,\n",
       " 2010: 1456,\n",
       " 2011: 1415,\n",
       " 2012: 1718,\n",
       " 2013: 1507,\n",
       " 2014: 1833,\n",
       " 2015: 1639,\n",
       " 2016: 1104,\n",
       " 2017: 2048,\n",
       " 2018: 2890,\n",
       " 2019: 2290,\n",
       " 2020: -2067,\n",
       " 2021: 6260}"
      ]
     },
     "execution_count": 12,
     "metadata": {},
     "output_type": "execute_result"
    }
   ],
   "source": [
    "D = {}\n",
    "\n",
    "for year in range(1961, 2022):\n",
    "    D[year] = GDP_gaps[year - 1961]\n",
    "    \n",
    "D"
   ]
  },
  {
   "cell_type": "markdown",
   "id": "a6f263a2",
   "metadata": {},
   "source": [
    "### I-2(b)\n",
    "Use the dictionary `D` to find the year when the GDP per capita increase from the previous year was the maximum.\n",
    "\n",
    "*(4 points)*"
   ]
  },
  {
   "cell_type": "code",
   "execution_count": 13,
   "id": "40b8ee08",
   "metadata": {},
   "outputs": [
    {
     "data": {
      "text/plain": [
       "[2021]"
      ]
     },
     "execution_count": 13,
     "metadata": {},
     "output_type": "execute_result"
    }
   ],
   "source": [
    "[key for key, value in D.items() if D[key]==max(D.values())]"
   ]
  },
  {
   "cell_type": "markdown",
   "id": "7e671cf8",
   "metadata": {},
   "source": [
    "The GDP per capita increase from the previous year was the maximum in 2021."
   ]
  },
  {
   "cell_type": "markdown",
   "id": "75808d4a",
   "metadata": {},
   "source": [
    "### I-2(c)\n",
    "Use the dictionary `D` to find the years when the GDP per capita decreased with respect to the previous year.\n",
    "\n",
    "*(4 points)*"
   ]
  },
  {
   "cell_type": "code",
   "execution_count": 14,
   "id": "c493f551",
   "metadata": {},
   "outputs": [
    {
     "data": {
      "text/plain": [
       "[2009, 2020]"
      ]
     },
     "execution_count": 14,
     "metadata": {},
     "output_type": "execute_result"
    }
   ],
   "source": [
    "[key for key, value in D.items() if D[key] < 0]"
   ]
  },
  {
   "cell_type": "markdown",
   "id": "4b908786",
   "metadata": {},
   "source": [
    "The GDP per capita decreased in 2009 and 2020."
   ]
  },
  {
   "cell_type": "markdown",
   "id": "7464a84c",
   "metadata": {},
   "source": [
    "# II\n",
    "## II-1\n",
    "Read the [data](https://raw.githubusercontent.com/cwkenwaysun/TEDmap/master/data/TED_Talks.json) on ted talks from 2006 to 2017.\n",
    "\n",
    "*(2 points)*"
   ]
  },
  {
   "cell_type": "code",
   "execution_count": 15,
   "id": "5f6849f9",
   "metadata": {},
   "outputs": [
    {
     "data": {
      "text/html": [
       "<div>\n",
       "<style scoped>\n",
       "    .dataframe tbody tr th:only-of-type {\n",
       "        vertical-align: middle;\n",
       "    }\n",
       "\n",
       "    .dataframe tbody tr th {\n",
       "        vertical-align: top;\n",
       "    }\n",
       "\n",
       "    .dataframe thead th {\n",
       "        text-align: right;\n",
       "    }\n",
       "</style>\n",
       "<table border=\"1\" class=\"dataframe\">\n",
       "  <thead>\n",
       "    <tr style=\"text-align: right;\">\n",
       "      <th></th>\n",
       "      <th>id</th>\n",
       "      <th>speaker</th>\n",
       "      <th>headline</th>\n",
       "      <th>URL</th>\n",
       "      <th>description</th>\n",
       "      <th>transcript_URL</th>\n",
       "      <th>month_filmed</th>\n",
       "      <th>year_filmed</th>\n",
       "      <th>event</th>\n",
       "      <th>duration</th>\n",
       "      <th>date_published</th>\n",
       "      <th>tags</th>\n",
       "      <th>newURL</th>\n",
       "      <th>date</th>\n",
       "      <th>views</th>\n",
       "      <th>rates</th>\n",
       "    </tr>\n",
       "  </thead>\n",
       "  <tbody>\n",
       "    <tr>\n",
       "      <th>0</th>\n",
       "      <td>7</td>\n",
       "      <td>David Pogue</td>\n",
       "      <td>Simplicity sells</td>\n",
       "      <td>http://www.ted.com/talks/view/id/7</td>\n",
       "      <td>New York Times columnist David Pogue takes aim...</td>\n",
       "      <td>http://www.ted.com/talks/view/id/7/transcript?...</td>\n",
       "      <td>2</td>\n",
       "      <td>2006</td>\n",
       "      <td>TED2006</td>\n",
       "      <td>0:21:26</td>\n",
       "      <td>6/27/06</td>\n",
       "      <td>simplicity,computers,software,interface design...</td>\n",
       "      <td>https://www.ted.com/talks/david_pogue_says_sim...</td>\n",
       "      <td>2006-06-27</td>\n",
       "      <td>1646773</td>\n",
       "      <td>[{'id': 7, 'name': 'Funny', 'count': 968}, {'i...</td>\n",
       "    </tr>\n",
       "    <tr>\n",
       "      <th>1</th>\n",
       "      <td>6</td>\n",
       "      <td>Craig Venter</td>\n",
       "      <td>Sampling the ocean's DNA</td>\n",
       "      <td>http://www.ted.com/talks/view/id/6</td>\n",
       "      <td>Genomics pioneer Craig Venter takes a break fr...</td>\n",
       "      <td>http://www.ted.com/talks/view/id/6/transcript?...</td>\n",
       "      <td>7</td>\n",
       "      <td>2005</td>\n",
       "      <td>TEDGlobal 2005</td>\n",
       "      <td>0:16:51</td>\n",
       "      <td>2004/05/07</td>\n",
       "      <td>biotech,invention,oceans,genetics,DNA,biology,...</td>\n",
       "      <td>https://www.ted.com/talks/craig_venter_on_dna_...</td>\n",
       "      <td>2004-05-07</td>\n",
       "      <td>562625</td>\n",
       "      <td>[{'id': 3, 'name': 'Courageous', 'count': 21},...</td>\n",
       "    </tr>\n",
       "    <tr>\n",
       "      <th>2</th>\n",
       "      <td>4</td>\n",
       "      <td>Burt Rutan</td>\n",
       "      <td>The real future of space exploration</td>\n",
       "      <td>http://www.ted.com/talks/view/id/4</td>\n",
       "      <td>In this passionate talk, legendary spacecraft ...</td>\n",
       "      <td>http://www.ted.com/talks/view/id/4/transcript?...</td>\n",
       "      <td>2</td>\n",
       "      <td>2006</td>\n",
       "      <td>TED2006</td>\n",
       "      <td>0:19:37</td>\n",
       "      <td>10/25/06</td>\n",
       "      <td>aircraft,flight,industrial design,NASA,rocket ...</td>\n",
       "      <td>https://www.ted.com/talks/burt_rutan_sees_the_...</td>\n",
       "      <td>2006-10-25</td>\n",
       "      <td>2046869</td>\n",
       "      <td>[{'id': 3, 'name': 'Courageous', 'count': 169}...</td>\n",
       "    </tr>\n",
       "    <tr>\n",
       "      <th>3</th>\n",
       "      <td>3</td>\n",
       "      <td>Ashraf Ghani</td>\n",
       "      <td>How to rebuild a broken state</td>\n",
       "      <td>http://www.ted.com/talks/view/id/3</td>\n",
       "      <td>Ashraf Ghani's passionate and powerful 10-minu...</td>\n",
       "      <td>http://www.ted.com/talks/view/id/3/transcript?...</td>\n",
       "      <td>7</td>\n",
       "      <td>2005</td>\n",
       "      <td>TEDGlobal 2005</td>\n",
       "      <td>0:18:45</td>\n",
       "      <td>10/18/06</td>\n",
       "      <td>corruption,poverty,economics,investment,milita...</td>\n",
       "      <td>https://www.ted.com/talks/ashraf_ghani_on_rebu...</td>\n",
       "      <td>2006-10-18</td>\n",
       "      <td>814554</td>\n",
       "      <td>[{'id': 3, 'name': 'Courageous', 'count': 140}...</td>\n",
       "    </tr>\n",
       "    <tr>\n",
       "      <th>4</th>\n",
       "      <td>5</td>\n",
       "      <td>Chris Bangle</td>\n",
       "      <td>Great cars are great art</td>\n",
       "      <td>http://www.ted.com/talks/view/id/5</td>\n",
       "      <td>American designer Chris Bangle explains his ph...</td>\n",
       "      <td>http://www.ted.com/talks/view/id/5/transcript?...</td>\n",
       "      <td>2</td>\n",
       "      <td>2002</td>\n",
       "      <td>TED2002</td>\n",
       "      <td>0:20:04</td>\n",
       "      <td>2004/05/07</td>\n",
       "      <td>cars,industrial design,transportation,inventio...</td>\n",
       "      <td>https://www.ted.com/talks/chris_bangle_says_gr...</td>\n",
       "      <td>2004-05-07</td>\n",
       "      <td>870950</td>\n",
       "      <td>[{'id': 1, 'name': 'Beautiful', 'count': 89}, ...</td>\n",
       "    </tr>\n",
       "    <tr>\n",
       "      <th>...</th>\n",
       "      <td>...</td>\n",
       "      <td>...</td>\n",
       "      <td>...</td>\n",
       "      <td>...</td>\n",
       "      <td>...</td>\n",
       "      <td>...</td>\n",
       "      <td>...</td>\n",
       "      <td>...</td>\n",
       "      <td>...</td>\n",
       "      <td>...</td>\n",
       "      <td>...</td>\n",
       "      <td>...</td>\n",
       "      <td>...</td>\n",
       "      <td>...</td>\n",
       "      <td>...</td>\n",
       "      <td>...</td>\n",
       "    </tr>\n",
       "    <tr>\n",
       "      <th>2469</th>\n",
       "      <td>2740</td>\n",
       "      <td>Carina Morillo</td>\n",
       "      <td>To understand autism, don't look away</td>\n",
       "      <td>http://www.ted.com/talks/view/id/2740</td>\n",
       "      <td>Carina Morillo knew almost nothing about autis...</td>\n",
       "      <td>http://www.ted.com/talks/view/id/2740/transcri...</td>\n",
       "      <td>10</td>\n",
       "      <td>2016</td>\n",
       "      <td>TEDxRiodelaPlata</td>\n",
       "      <td>0:07:09</td>\n",
       "      <td>2006/7/17</td>\n",
       "      <td>autism spectrum disorder,TED en espanol,TEDx,a...</td>\n",
       "      <td>https://www.ted.com/talks/carina_morillo_to_un...</td>\n",
       "      <td>2006-07-17</td>\n",
       "      <td>455265</td>\n",
       "      <td>[{'id': 10, 'name': 'Inspiring', 'count': 135}...</td>\n",
       "    </tr>\n",
       "    <tr>\n",
       "      <th>2470</th>\n",
       "      <td>2797</td>\n",
       "      <td>Justin Davidson</td>\n",
       "      <td>Why glass towers are bad for city life -- and ...</td>\n",
       "      <td>http://www.ted.com/talks/view/id/2797</td>\n",
       "      <td>There's a creepy transformation taking over ou...</td>\n",
       "      <td>http://www.ted.com/talks/view/id/2797/transcri...</td>\n",
       "      <td>3</td>\n",
       "      <td>2017</td>\n",
       "      <td>TEDNYC</td>\n",
       "      <td>0:12:39</td>\n",
       "      <td>2006/6/17</td>\n",
       "      <td>architecture,beauty,cities,community,journalis...</td>\n",
       "      <td>https://www.ted.com/talks/justin_davidson_why_...</td>\n",
       "      <td>2006-06-17</td>\n",
       "      <td>1230065</td>\n",
       "      <td>[{'id': 8, 'name': 'Informative', 'count': 147...</td>\n",
       "    </tr>\n",
       "    <tr>\n",
       "      <th>2471</th>\n",
       "      <td>2801</td>\n",
       "      <td>Anne Lamott</td>\n",
       "      <td>12 truths I learned from life and writing</td>\n",
       "      <td>http://www.ted.com/talks/view/id/2801</td>\n",
       "      <td>A few days before she turned 61, writer Anne L...</td>\n",
       "      <td>http://www.ted.com/talks/view/id/2801/transcri...</td>\n",
       "      <td>4</td>\n",
       "      <td>2017</td>\n",
       "      <td>TED2017</td>\n",
       "      <td>0:15:55</td>\n",
       "      <td>2006/9/17</td>\n",
       "      <td>Christianity,God,aging,art,beauty,birds,books,...</td>\n",
       "      <td>https://www.ted.com/talks/anne_lamott_12_truth...</td>\n",
       "      <td>2006-09-17</td>\n",
       "      <td>2068848</td>\n",
       "      <td>[{'id': 26, 'name': 'Obnoxious', 'count': 28},...</td>\n",
       "    </tr>\n",
       "    <tr>\n",
       "      <th>2472</th>\n",
       "      <td>2799</td>\n",
       "      <td>Tim Ferriss</td>\n",
       "      <td>Why you should define your fears instead of yo...</td>\n",
       "      <td>http://www.ted.com/talks/view/id/2799</td>\n",
       "      <td>The hard choices  what we most fear doing, ask...</td>\n",
       "      <td>http://www.ted.com/talks/view/id/2799/transcri...</td>\n",
       "      <td>4</td>\n",
       "      <td>2017</td>\n",
       "      <td>TED2017</td>\n",
       "      <td>0:13:21</td>\n",
       "      <td>2006/12/17</td>\n",
       "      <td>choice,fear,goal-setting,humanity,life,persona...</td>\n",
       "      <td>https://www.ted.com/talks/tim_ferriss_why_you_...</td>\n",
       "      <td>2006-12-17</td>\n",
       "      <td>3508872</td>\n",
       "      <td>[{'id': 3, 'name': 'Courageous', 'count': 756}...</td>\n",
       "    </tr>\n",
       "    <tr>\n",
       "      <th>2473</th>\n",
       "      <td>2804</td>\n",
       "      <td>Richard Browning</td>\n",
       "      <td>How I built a jet suit</td>\n",
       "      <td>http://www.ted.com/talks/view/id/2804</td>\n",
       "      <td>We've all dreamed of flying  but for Richard B...</td>\n",
       "      <td>http://www.ted.com/talks/view/id/2804/transcri...</td>\n",
       "      <td>4</td>\n",
       "      <td>2017</td>\n",
       "      <td>TED2017</td>\n",
       "      <td>0:07:08</td>\n",
       "      <td>6/13/17</td>\n",
       "      <td>adventure,collaboration,demo,design,engineerin...</td>\n",
       "      <td>https://www.ted.com/talks/richard_browning_how...</td>\n",
       "      <td>2017-06-13</td>\n",
       "      <td>1443955</td>\n",
       "      <td>[{'id': 9, 'name': 'Ingenious', 'count': 115},...</td>\n",
       "    </tr>\n",
       "  </tbody>\n",
       "</table>\n",
       "<p>2474 rows × 16 columns</p>\n",
       "</div>"
      ],
      "text/plain": [
       "        id           speaker  \\\n",
       "0        7       David Pogue   \n",
       "1        6      Craig Venter   \n",
       "2        4        Burt Rutan   \n",
       "3        3      Ashraf Ghani   \n",
       "4        5      Chris Bangle   \n",
       "...    ...               ...   \n",
       "2469  2740    Carina Morillo   \n",
       "2470  2797   Justin Davidson   \n",
       "2471  2801       Anne Lamott   \n",
       "2472  2799       Tim Ferriss   \n",
       "2473  2804  Richard Browning   \n",
       "\n",
       "                                               headline  \\\n",
       "0                                      Simplicity sells   \n",
       "1                              Sampling the ocean's DNA   \n",
       "2                  The real future of space exploration   \n",
       "3                         How to rebuild a broken state   \n",
       "4                              Great cars are great art   \n",
       "...                                                 ...   \n",
       "2469              To understand autism, don't look away   \n",
       "2470  Why glass towers are bad for city life -- and ...   \n",
       "2471          12 truths I learned from life and writing   \n",
       "2472  Why you should define your fears instead of yo...   \n",
       "2473                             How I built a jet suit   \n",
       "\n",
       "                                        URL  \\\n",
       "0        http://www.ted.com/talks/view/id/7   \n",
       "1        http://www.ted.com/talks/view/id/6   \n",
       "2        http://www.ted.com/talks/view/id/4   \n",
       "3        http://www.ted.com/talks/view/id/3   \n",
       "4        http://www.ted.com/talks/view/id/5   \n",
       "...                                     ...   \n",
       "2469  http://www.ted.com/talks/view/id/2740   \n",
       "2470  http://www.ted.com/talks/view/id/2797   \n",
       "2471  http://www.ted.com/talks/view/id/2801   \n",
       "2472  http://www.ted.com/talks/view/id/2799   \n",
       "2473  http://www.ted.com/talks/view/id/2804   \n",
       "\n",
       "                                            description  \\\n",
       "0     New York Times columnist David Pogue takes aim...   \n",
       "1     Genomics pioneer Craig Venter takes a break fr...   \n",
       "2     In this passionate talk, legendary spacecraft ...   \n",
       "3     Ashraf Ghani's passionate and powerful 10-minu...   \n",
       "4     American designer Chris Bangle explains his ph...   \n",
       "...                                                 ...   \n",
       "2469  Carina Morillo knew almost nothing about autis...   \n",
       "2470  There's a creepy transformation taking over ou...   \n",
       "2471  A few days before she turned 61, writer Anne L...   \n",
       "2472  The hard choices  what we most fear doing, ask...   \n",
       "2473  We've all dreamed of flying  but for Richard B...   \n",
       "\n",
       "                                         transcript_URL  month_filmed  \\\n",
       "0     http://www.ted.com/talks/view/id/7/transcript?...             2   \n",
       "1     http://www.ted.com/talks/view/id/6/transcript?...             7   \n",
       "2     http://www.ted.com/talks/view/id/4/transcript?...             2   \n",
       "3     http://www.ted.com/talks/view/id/3/transcript?...             7   \n",
       "4     http://www.ted.com/talks/view/id/5/transcript?...             2   \n",
       "...                                                 ...           ...   \n",
       "2469  http://www.ted.com/talks/view/id/2740/transcri...            10   \n",
       "2470  http://www.ted.com/talks/view/id/2797/transcri...             3   \n",
       "2471  http://www.ted.com/talks/view/id/2801/transcri...             4   \n",
       "2472  http://www.ted.com/talks/view/id/2799/transcri...             4   \n",
       "2473  http://www.ted.com/talks/view/id/2804/transcri...             4   \n",
       "\n",
       "      year_filmed             event duration date_published  \\\n",
       "0            2006           TED2006  0:21:26        6/27/06   \n",
       "1            2005    TEDGlobal 2005  0:16:51     2004/05/07   \n",
       "2            2006           TED2006  0:19:37       10/25/06   \n",
       "3            2005    TEDGlobal 2005  0:18:45       10/18/06   \n",
       "4            2002           TED2002  0:20:04     2004/05/07   \n",
       "...           ...               ...      ...            ...   \n",
       "2469         2016  TEDxRiodelaPlata  0:07:09      2006/7/17   \n",
       "2470         2017            TEDNYC  0:12:39      2006/6/17   \n",
       "2471         2017           TED2017  0:15:55      2006/9/17   \n",
       "2472         2017           TED2017  0:13:21     2006/12/17   \n",
       "2473         2017           TED2017  0:07:08        6/13/17   \n",
       "\n",
       "                                                   tags  \\\n",
       "0     simplicity,computers,software,interface design...   \n",
       "1     biotech,invention,oceans,genetics,DNA,biology,...   \n",
       "2     aircraft,flight,industrial design,NASA,rocket ...   \n",
       "3     corruption,poverty,economics,investment,milita...   \n",
       "4     cars,industrial design,transportation,inventio...   \n",
       "...                                                 ...   \n",
       "2469  autism spectrum disorder,TED en espanol,TEDx,a...   \n",
       "2470  architecture,beauty,cities,community,journalis...   \n",
       "2471  Christianity,God,aging,art,beauty,birds,books,...   \n",
       "2472  choice,fear,goal-setting,humanity,life,persona...   \n",
       "2473  adventure,collaboration,demo,design,engineerin...   \n",
       "\n",
       "                                                 newURL       date    views  \\\n",
       "0     https://www.ted.com/talks/david_pogue_says_sim... 2006-06-27  1646773   \n",
       "1     https://www.ted.com/talks/craig_venter_on_dna_... 2004-05-07   562625   \n",
       "2     https://www.ted.com/talks/burt_rutan_sees_the_... 2006-10-25  2046869   \n",
       "3     https://www.ted.com/talks/ashraf_ghani_on_rebu... 2006-10-18   814554   \n",
       "4     https://www.ted.com/talks/chris_bangle_says_gr... 2004-05-07   870950   \n",
       "...                                                 ...        ...      ...   \n",
       "2469  https://www.ted.com/talks/carina_morillo_to_un... 2006-07-17   455265   \n",
       "2470  https://www.ted.com/talks/justin_davidson_why_... 2006-06-17  1230065   \n",
       "2471  https://www.ted.com/talks/anne_lamott_12_truth... 2006-09-17  2068848   \n",
       "2472  https://www.ted.com/talks/tim_ferriss_why_you_... 2006-12-17  3508872   \n",
       "2473  https://www.ted.com/talks/richard_browning_how... 2017-06-13  1443955   \n",
       "\n",
       "                                                  rates  \n",
       "0     [{'id': 7, 'name': 'Funny', 'count': 968}, {'i...  \n",
       "1     [{'id': 3, 'name': 'Courageous', 'count': 21},...  \n",
       "2     [{'id': 3, 'name': 'Courageous', 'count': 169}...  \n",
       "3     [{'id': 3, 'name': 'Courageous', 'count': 140}...  \n",
       "4     [{'id': 1, 'name': 'Beautiful', 'count': 89}, ...  \n",
       "...                                                 ...  \n",
       "2469  [{'id': 10, 'name': 'Inspiring', 'count': 135}...  \n",
       "2470  [{'id': 8, 'name': 'Informative', 'count': 147...  \n",
       "2471  [{'id': 26, 'name': 'Obnoxious', 'count': 28},...  \n",
       "2472  [{'id': 3, 'name': 'Courageous', 'count': 756}...  \n",
       "2473  [{'id': 9, 'name': 'Ingenious', 'count': 115},...  \n",
       "\n",
       "[2474 rows x 16 columns]"
      ]
     },
     "execution_count": 15,
     "metadata": {},
     "output_type": "execute_result"
    }
   ],
   "source": [
    "import pandas as pd\n",
    "\n",
    "tedTalks = pd.read_json('https://raw.githubusercontent.com/cwkenwaysun/TEDmap/master/data/TED_Talks.json')\n",
    "\n",
    "tedTalks"
   ]
  },
  {
   "cell_type": "markdown",
   "id": "99877931",
   "metadata": {},
   "source": [
    "## II-2\n",
    "Find the number of talks in the dataset.\n",
    "\n",
    "*(2 points)*"
   ]
  },
  {
   "cell_type": "code",
   "execution_count": 16,
   "id": "ffd78603",
   "metadata": {},
   "outputs": [
    {
     "data": {
      "text/plain": [
       "2474"
      ]
     },
     "execution_count": 16,
     "metadata": {},
     "output_type": "execute_result"
    }
   ],
   "source": [
    "tedTalks.shape[0]"
   ]
  },
  {
   "cell_type": "markdown",
   "id": "294bb905",
   "metadata": {},
   "source": [
    "There are 2474 talks in the dataset."
   ]
  },
  {
   "cell_type": "markdown",
   "id": "7ba3d3db",
   "metadata": {},
   "source": [
    "## II-3 \n",
    "Find the `headline`, `speaker` and `year` of the talk with the highest number of views.\n",
    "\n",
    "*(5 points)*"
   ]
  },
  {
   "cell_type": "code",
   "execution_count": 17,
   "id": "f9491cff",
   "metadata": {},
   "outputs": [
    {
     "name": "stdout",
     "output_type": "stream",
     "text": [
      "The talk with the highest number of views...\n",
      "headline:  Do schools kill creativity?\n",
      "speaker:  Ken Robinson\n",
      "year_filmed:  2006\n"
     ]
    }
   ],
   "source": [
    "position_max_views = tedTalks['views'].argmax()\n",
    "tedTalks.iloc[position_max_views,:]\n",
    "\n",
    "print(\"The talk with the highest number of views...\")\n",
    "print(\"headline: \", tedTalks.iloc[position_max_views,2])\n",
    "print(\"speaker: \", tedTalks.iloc[position_max_views, 1])\n",
    "print(\"year_filmed: \", tedTalks.iloc[position_max_views, 7])"
   ]
  },
  {
   "cell_type": "markdown",
   "id": "845aa3b7",
   "metadata": {},
   "source": [
    "##  II-4 \n",
    "Do the majority of talks have less views than the average number of views for a talk? Justify your answer.\n",
    "\n",
    "*(4 points)*\n",
    "\n",
    "**Hint:** Print summary statistics for questions (4) and (5)."
   ]
  },
  {
   "cell_type": "code",
   "execution_count": 18,
   "id": "20efeb09",
   "metadata": {},
   "outputs": [
    {
     "data": {
      "text/html": [
       "<div>\n",
       "<style scoped>\n",
       "    .dataframe tbody tr th:only-of-type {\n",
       "        vertical-align: middle;\n",
       "    }\n",
       "\n",
       "    .dataframe tbody tr th {\n",
       "        vertical-align: top;\n",
       "    }\n",
       "\n",
       "    .dataframe thead th {\n",
       "        text-align: right;\n",
       "    }\n",
       "</style>\n",
       "<table border=\"1\" class=\"dataframe\">\n",
       "  <thead>\n",
       "    <tr style=\"text-align: right;\">\n",
       "      <th></th>\n",
       "      <th>id</th>\n",
       "      <th>month_filmed</th>\n",
       "      <th>year_filmed</th>\n",
       "      <th>views</th>\n",
       "    </tr>\n",
       "  </thead>\n",
       "  <tbody>\n",
       "    <tr>\n",
       "      <th>count</th>\n",
       "      <td>2474.000000</td>\n",
       "      <td>2474.000000</td>\n",
       "      <td>2474.000000</td>\n",
       "      <td>2.474000e+03</td>\n",
       "    </tr>\n",
       "    <tr>\n",
       "      <th>mean</th>\n",
       "      <td>1433.782943</td>\n",
       "      <td>5.587712</td>\n",
       "      <td>2011.299515</td>\n",
       "      <td>1.747851e+06</td>\n",
       "    </tr>\n",
       "    <tr>\n",
       "      <th>std</th>\n",
       "      <td>797.970133</td>\n",
       "      <td>3.443934</td>\n",
       "      <td>3.665506</td>\n",
       "      <td>2.584138e+06</td>\n",
       "    </tr>\n",
       "    <tr>\n",
       "      <th>min</th>\n",
       "      <td>1.000000</td>\n",
       "      <td>1.000000</td>\n",
       "      <td>1972.000000</td>\n",
       "      <td>5.065300e+04</td>\n",
       "    </tr>\n",
       "    <tr>\n",
       "      <th>25%</th>\n",
       "      <td>768.250000</td>\n",
       "      <td>2.000000</td>\n",
       "      <td>2009.000000</td>\n",
       "      <td>7.703258e+05</td>\n",
       "    </tr>\n",
       "    <tr>\n",
       "      <th>50%</th>\n",
       "      <td>1451.500000</td>\n",
       "      <td>5.000000</td>\n",
       "      <td>2012.000000</td>\n",
       "      <td>1.151252e+06</td>\n",
       "    </tr>\n",
       "    <tr>\n",
       "      <th>75%</th>\n",
       "      <td>2118.750000</td>\n",
       "      <td>9.000000</td>\n",
       "      <td>2014.000000</td>\n",
       "      <td>1.748603e+06</td>\n",
       "    </tr>\n",
       "    <tr>\n",
       "      <th>max</th>\n",
       "      <td>2804.000000</td>\n",
       "      <td>12.000000</td>\n",
       "      <td>2017.000000</td>\n",
       "      <td>4.792402e+07</td>\n",
       "    </tr>\n",
       "  </tbody>\n",
       "</table>\n",
       "</div>"
      ],
      "text/plain": [
       "                id  month_filmed  year_filmed         views\n",
       "count  2474.000000   2474.000000  2474.000000  2.474000e+03\n",
       "mean   1433.782943      5.587712  2011.299515  1.747851e+06\n",
       "std     797.970133      3.443934     3.665506  2.584138e+06\n",
       "min       1.000000      1.000000  1972.000000  5.065300e+04\n",
       "25%     768.250000      2.000000  2009.000000  7.703258e+05\n",
       "50%    1451.500000      5.000000  2012.000000  1.151252e+06\n",
       "75%    2118.750000      9.000000  2014.000000  1.748603e+06\n",
       "max    2804.000000     12.000000  2017.000000  4.792402e+07"
      ]
     },
     "execution_count": 18,
     "metadata": {},
     "output_type": "execute_result"
    }
   ],
   "source": [
    "tedTalks.describe()"
   ]
  },
  {
   "cell_type": "markdown",
   "id": "756f47fe",
   "metadata": {},
   "source": [
    "The mean number of views is higher than the number of views at 50% so, yes, the majority of talks have less views than the average number of views."
   ]
  },
  {
   "cell_type": "markdown",
   "id": "ce2ec388",
   "metadata": {},
   "source": [
    "## II-5 \n",
    "Do at least 25% of the talks have more views than the average number of views for a talk? Justify your answer.\n",
    "\n",
    "*(4 points)*"
   ]
  },
  {
   "cell_type": "markdown",
   "id": "81aec658",
   "metadata": {},
   "source": [
    "Yes, at least 25% of talks have more views than the average number of views for a talk. This can be seen in the summary statistics where the number of views at 75% is 1.748603e+06 which is higher than the mean of 1.747851e+06 views. This shows that, at the very least, the views of the talks in the 75th to 100th percentile (which is a total of 25% of the talks: 100 - 75 = 25) must have more views than the average.  "
   ]
  },
  {
   "cell_type": "markdown",
   "id": "34922431",
   "metadata": {},
   "source": [
    "## II-6 \n",
    "\n",
    "### II-6(a)\n",
    "The last column of the dataset consists of votes obtained by the talk under different categories, such as *Funny, Confusing, Fascinating, etc.* For each category, create a new column in the dataset that contains the votes obtained by the tedtalk in that category. Print the first 5 rows of the updated dataset.\n",
    "\n",
    "*(20 points)*"
   ]
  },
  {
   "cell_type": "code",
   "execution_count": 19,
   "id": "158a2113",
   "metadata": {},
   "outputs": [
    {
     "data": {
      "text/html": [
       "<div>\n",
       "<style scoped>\n",
       "    .dataframe tbody tr th:only-of-type {\n",
       "        vertical-align: middle;\n",
       "    }\n",
       "\n",
       "    .dataframe tbody tr th {\n",
       "        vertical-align: top;\n",
       "    }\n",
       "\n",
       "    .dataframe thead th {\n",
       "        text-align: right;\n",
       "    }\n",
       "</style>\n",
       "<table border=\"1\" class=\"dataframe\">\n",
       "  <thead>\n",
       "    <tr style=\"text-align: right;\">\n",
       "      <th></th>\n",
       "      <th>id</th>\n",
       "      <th>speaker</th>\n",
       "      <th>headline</th>\n",
       "      <th>URL</th>\n",
       "      <th>description</th>\n",
       "      <th>transcript_URL</th>\n",
       "      <th>month_filmed</th>\n",
       "      <th>year_filmed</th>\n",
       "      <th>event</th>\n",
       "      <th>duration</th>\n",
       "      <th>...</th>\n",
       "      <th>Unconvincing</th>\n",
       "      <th>Longwinded</th>\n",
       "      <th>Informative</th>\n",
       "      <th>Inspiring</th>\n",
       "      <th>Fascinating</th>\n",
       "      <th>Confusing</th>\n",
       "      <th>OK</th>\n",
       "      <th>Persuasive</th>\n",
       "      <th>Jaw-dropping</th>\n",
       "      <th>Obnoxious</th>\n",
       "    </tr>\n",
       "  </thead>\n",
       "  <tbody>\n",
       "    <tr>\n",
       "      <th>0</th>\n",
       "      <td>7</td>\n",
       "      <td>David Pogue</td>\n",
       "      <td>Simplicity sells</td>\n",
       "      <td>http://www.ted.com/talks/view/id/7</td>\n",
       "      <td>New York Times columnist David Pogue takes aim...</td>\n",
       "      <td>http://www.ted.com/talks/view/id/7/transcript?...</td>\n",
       "      <td>2</td>\n",
       "      <td>2006</td>\n",
       "      <td>TED2006</td>\n",
       "      <td>0:21:26</td>\n",
       "      <td>...</td>\n",
       "      <td>104.0</td>\n",
       "      <td>78.0</td>\n",
       "      <td>399.0</td>\n",
       "      <td>230.0</td>\n",
       "      <td>166.0</td>\n",
       "      <td>27.0</td>\n",
       "      <td>146.0</td>\n",
       "      <td>230.0</td>\n",
       "      <td>54.0</td>\n",
       "      <td>142.0</td>\n",
       "    </tr>\n",
       "    <tr>\n",
       "      <th>1</th>\n",
       "      <td>6</td>\n",
       "      <td>Craig Venter</td>\n",
       "      <td>Sampling the ocean's DNA</td>\n",
       "      <td>http://www.ted.com/talks/view/id/6</td>\n",
       "      <td>Genomics pioneer Craig Venter takes a break fr...</td>\n",
       "      <td>http://www.ted.com/talks/view/id/6/transcript?...</td>\n",
       "      <td>7</td>\n",
       "      <td>2005</td>\n",
       "      <td>TEDGlobal 2005</td>\n",
       "      <td>0:16:51</td>\n",
       "      <td>...</td>\n",
       "      <td>3.0</td>\n",
       "      <td>8.0</td>\n",
       "      <td>199.0</td>\n",
       "      <td>73.0</td>\n",
       "      <td>163.0</td>\n",
       "      <td>23.0</td>\n",
       "      <td>10.0</td>\n",
       "      <td>23.0</td>\n",
       "      <td>74.0</td>\n",
       "      <td>0.0</td>\n",
       "    </tr>\n",
       "    <tr>\n",
       "      <th>2</th>\n",
       "      <td>4</td>\n",
       "      <td>Burt Rutan</td>\n",
       "      <td>The real future of space exploration</td>\n",
       "      <td>http://www.ted.com/talks/view/id/4</td>\n",
       "      <td>In this passionate talk, legendary spacecraft ...</td>\n",
       "      <td>http://www.ted.com/talks/view/id/4/transcript?...</td>\n",
       "      <td>2</td>\n",
       "      <td>2006</td>\n",
       "      <td>TED2006</td>\n",
       "      <td>0:19:37</td>\n",
       "      <td>...</td>\n",
       "      <td>77.0</td>\n",
       "      <td>70.0</td>\n",
       "      <td>337.0</td>\n",
       "      <td>501.0</td>\n",
       "      <td>247.0</td>\n",
       "      <td>23.0</td>\n",
       "      <td>115.0</td>\n",
       "      <td>202.0</td>\n",
       "      <td>63.0</td>\n",
       "      <td>47.0</td>\n",
       "    </tr>\n",
       "    <tr>\n",
       "      <th>3</th>\n",
       "      <td>3</td>\n",
       "      <td>Ashraf Ghani</td>\n",
       "      <td>How to rebuild a broken state</td>\n",
       "      <td>http://www.ted.com/talks/view/id/3</td>\n",
       "      <td>Ashraf Ghani's passionate and powerful 10-minu...</td>\n",
       "      <td>http://www.ted.com/talks/view/id/3/transcript?...</td>\n",
       "      <td>7</td>\n",
       "      <td>2005</td>\n",
       "      <td>TEDGlobal 2005</td>\n",
       "      <td>0:18:45</td>\n",
       "      <td>...</td>\n",
       "      <td>35.0</td>\n",
       "      <td>21.0</td>\n",
       "      <td>218.0</td>\n",
       "      <td>114.0</td>\n",
       "      <td>44.0</td>\n",
       "      <td>25.0</td>\n",
       "      <td>51.0</td>\n",
       "      <td>112.0</td>\n",
       "      <td>35.0</td>\n",
       "      <td>11.0</td>\n",
       "    </tr>\n",
       "    <tr>\n",
       "      <th>4</th>\n",
       "      <td>5</td>\n",
       "      <td>Chris Bangle</td>\n",
       "      <td>Great cars are great art</td>\n",
       "      <td>http://www.ted.com/talks/view/id/5</td>\n",
       "      <td>American designer Chris Bangle explains his ph...</td>\n",
       "      <td>http://www.ted.com/talks/view/id/5/transcript?...</td>\n",
       "      <td>2</td>\n",
       "      <td>2002</td>\n",
       "      <td>TED2002</td>\n",
       "      <td>0:20:04</td>\n",
       "      <td>...</td>\n",
       "      <td>81.0</td>\n",
       "      <td>100.0</td>\n",
       "      <td>88.0</td>\n",
       "      <td>163.0</td>\n",
       "      <td>76.0</td>\n",
       "      <td>32.0</td>\n",
       "      <td>64.0</td>\n",
       "      <td>28.0</td>\n",
       "      <td>9.0</td>\n",
       "      <td>45.0</td>\n",
       "    </tr>\n",
       "  </tbody>\n",
       "</table>\n",
       "<p>5 rows × 30 columns</p>\n",
       "</div>"
      ],
      "text/plain": [
       "   id       speaker                              headline  \\\n",
       "0   7   David Pogue                      Simplicity sells   \n",
       "1   6  Craig Venter              Sampling the ocean's DNA   \n",
       "2   4    Burt Rutan  The real future of space exploration   \n",
       "3   3  Ashraf Ghani         How to rebuild a broken state   \n",
       "4   5  Chris Bangle              Great cars are great art   \n",
       "\n",
       "                                  URL  \\\n",
       "0  http://www.ted.com/talks/view/id/7   \n",
       "1  http://www.ted.com/talks/view/id/6   \n",
       "2  http://www.ted.com/talks/view/id/4   \n",
       "3  http://www.ted.com/talks/view/id/3   \n",
       "4  http://www.ted.com/talks/view/id/5   \n",
       "\n",
       "                                         description  \\\n",
       "0  New York Times columnist David Pogue takes aim...   \n",
       "1  Genomics pioneer Craig Venter takes a break fr...   \n",
       "2  In this passionate talk, legendary spacecraft ...   \n",
       "3  Ashraf Ghani's passionate and powerful 10-minu...   \n",
       "4  American designer Chris Bangle explains his ph...   \n",
       "\n",
       "                                      transcript_URL  month_filmed  \\\n",
       "0  http://www.ted.com/talks/view/id/7/transcript?...             2   \n",
       "1  http://www.ted.com/talks/view/id/6/transcript?...             7   \n",
       "2  http://www.ted.com/talks/view/id/4/transcript?...             2   \n",
       "3  http://www.ted.com/talks/view/id/3/transcript?...             7   \n",
       "4  http://www.ted.com/talks/view/id/5/transcript?...             2   \n",
       "\n",
       "   year_filmed           event duration  ... Unconvincing Longwinded  \\\n",
       "0         2006         TED2006  0:21:26  ...        104.0       78.0   \n",
       "1         2005  TEDGlobal 2005  0:16:51  ...          3.0        8.0   \n",
       "2         2006         TED2006  0:19:37  ...         77.0       70.0   \n",
       "3         2005  TEDGlobal 2005  0:18:45  ...         35.0       21.0   \n",
       "4         2002         TED2002  0:20:04  ...         81.0      100.0   \n",
       "\n",
       "  Informative Inspiring  Fascinating Confusing     OK  Persuasive  \\\n",
       "0       399.0     230.0        166.0      27.0  146.0       230.0   \n",
       "1       199.0      73.0        163.0      23.0   10.0        23.0   \n",
       "2       337.0     501.0        247.0      23.0  115.0       202.0   \n",
       "3       218.0     114.0         44.0      25.0   51.0       112.0   \n",
       "4        88.0     163.0         76.0      32.0   64.0        28.0   \n",
       "\n",
       "   Jaw-dropping  Obnoxious  \n",
       "0          54.0      142.0  \n",
       "1          74.0        0.0  \n",
       "2          63.0       47.0  \n",
       "3          35.0       11.0  \n",
       "4           9.0       45.0  \n",
       "\n",
       "[5 rows x 30 columns]"
      ]
     },
     "execution_count": 19,
     "metadata": {},
     "output_type": "execute_result"
    }
   ],
   "source": [
    "for i in range(tedTalks.shape[0]):\n",
    "    for category in tedTalks.loc[i, 'rates']:\n",
    "        tedTalks.loc[i, category['name']] = category['count']\n",
    "        \n",
    "tedTalks.head()"
   ]
  },
  {
   "cell_type": "markdown",
   "id": "ca050868",
   "metadata": {},
   "source": [
    "### II-6(b)\n",
    "With the data created in (a), find the `headline` of the talk that received the highest number of *Confusing* votes.\n",
    "\n",
    "*(5 points)*"
   ]
  },
  {
   "cell_type": "code",
   "execution_count": 20,
   "id": "2db1c1d0",
   "metadata": {},
   "outputs": [
    {
     "name": "stdout",
     "output_type": "stream",
     "text": [
      "headline of most confusing TedTalk:  I believe we evolved from aquatic apes\n"
     ]
    }
   ],
   "source": [
    "position_max_confusing = tedTalks['Confusing'].argmax()\n",
    "print(\"headline of most confusing TedTalk: \", tedTalks.iloc[position_max_confusing,2])"
   ]
  },
  {
   "cell_type": "markdown",
   "id": "af8c64aa",
   "metadata": {},
   "source": [
    "### II-6(c)\n",
    "With the data created in (a), find the `headline` and the `year` of the talk that received the highest percentage of votes in the *Fascinating* category. \n",
    "\n",
    "$$\\text{Percentage of } \\textit{Fascinating} \\text{ votes for a ted talk} = \\frac{Number \\ of \\  votes \\ in \\ the \\ category - \\ Fascinating}{Total \\ votes \\ in \\ all  \\ categories}$$\n",
    "\n",
    "*(10 points)*"
   ]
  },
  {
   "cell_type": "code",
   "execution_count": 21,
   "id": "174f3a0c",
   "metadata": {},
   "outputs": [
    {
     "name": "stdout",
     "output_type": "stream",
     "text": [
      "The talk that received the highest percentage of votes in the Fascinating category was... \n",
      "headline:  Could a Saturn moon harbor life?\n",
      "year:  2009\n"
     ]
    }
   ],
   "source": [
    "for i in range(tedTalks.shape[0]):\n",
    "    total_votes = 0\n",
    "    for category in tedTalks.loc[i, 'rates']:\n",
    "        total_votes += category['count']\n",
    "    tedTalks.loc[i, 'Fascinating Percentage'] = tedTalks.loc[i, 'Fascinating'] / total_votes\n",
    "        \n",
    "position_max_fas_per = tedTalks['Fascinating Percentage'].argmax()\n",
    "tedTalks.iloc[position_max_fas_per,:]\n",
    "\n",
    "print(\"The talk that received the highest percentage of votes in the Fascinating category was... \")\n",
    "print(\"headline: \", tedTalks.iloc[position_max_fas_per,2])\n",
    "print(\"year: \", tedTalks.iloc[position_max_fas_per, 7])"
   ]
  },
  {
   "cell_type": "markdown",
   "id": "3808e384",
   "metadata": {},
   "source": [
    "# III"
   ]
  },
  {
   "cell_type": "markdown",
   "id": "f6ebb90e",
   "metadata": {},
   "source": [
    "## III-1\n",
    "Download the data set “univ.txt”. Read it with python.\n",
    "\n",
    "*(2 points)*"
   ]
  },
  {
   "cell_type": "code",
   "execution_count": 22,
   "id": "b14ec79f",
   "metadata": {},
   "outputs": [
    {
     "data": {
      "text/html": [
       "<div>\n",
       "<style scoped>\n",
       "    .dataframe tbody tr th:only-of-type {\n",
       "        vertical-align: middle;\n",
       "    }\n",
       "\n",
       "    .dataframe tbody tr th {\n",
       "        vertical-align: top;\n",
       "    }\n",
       "\n",
       "    .dataframe thead th {\n",
       "        text-align: right;\n",
       "    }\n",
       "</style>\n",
       "<table border=\"1\" class=\"dataframe\">\n",
       "  <thead>\n",
       "    <tr style=\"text-align: right;\">\n",
       "      <th></th>\n",
       "      <th>Name</th>\n",
       "      <th>Location</th>\n",
       "      <th>Rank</th>\n",
       "      <th>Tuition and fees</th>\n",
       "      <th>Undergrad Enrollment</th>\n",
       "    </tr>\n",
       "  </thead>\n",
       "  <tbody>\n",
       "    <tr>\n",
       "      <th>0</th>\n",
       "      <td>Princeton University</td>\n",
       "      <td>Princeton, NJ</td>\n",
       "      <td>1.0</td>\n",
       "      <td>45320.0</td>\n",
       "      <td>5402.0</td>\n",
       "    </tr>\n",
       "    <tr>\n",
       "      <th>1</th>\n",
       "      <td>Harvard University</td>\n",
       "      <td>Cambridge, MA</td>\n",
       "      <td>2.0</td>\n",
       "      <td>47074.0</td>\n",
       "      <td>6699.0</td>\n",
       "    </tr>\n",
       "    <tr>\n",
       "      <th>2</th>\n",
       "      <td>University of Chicago</td>\n",
       "      <td>Chicago, IL</td>\n",
       "      <td>3.0</td>\n",
       "      <td>52491.0</td>\n",
       "      <td>5844.0</td>\n",
       "    </tr>\n",
       "    <tr>\n",
       "      <th>3</th>\n",
       "      <td>Yale University</td>\n",
       "      <td>New Haven, CT</td>\n",
       "      <td>3.0</td>\n",
       "      <td>49480.0</td>\n",
       "      <td>5532.0</td>\n",
       "    </tr>\n",
       "    <tr>\n",
       "      <th>4</th>\n",
       "      <td>Columbia University</td>\n",
       "      <td>New York, NY</td>\n",
       "      <td>5.0</td>\n",
       "      <td>55056.0</td>\n",
       "      <td>6102.0</td>\n",
       "    </tr>\n",
       "    <tr>\n",
       "      <th>...</th>\n",
       "      <td>...</td>\n",
       "      <td>...</td>\n",
       "      <td>...</td>\n",
       "      <td>...</td>\n",
       "      <td>...</td>\n",
       "    </tr>\n",
       "    <tr>\n",
       "      <th>226</th>\n",
       "      <td>University of Massachusetts--Dartmouth</td>\n",
       "      <td>North Dartmouth, MA</td>\n",
       "      <td>220.0</td>\n",
       "      <td>19270.0</td>\n",
       "      <td>7295.0</td>\n",
       "    </tr>\n",
       "    <tr>\n",
       "      <th>227</th>\n",
       "      <td>University of Missouri--St. Louis</td>\n",
       "      <td>St. Louis, MO</td>\n",
       "      <td>220.0</td>\n",
       "      <td>26277.0</td>\n",
       "      <td>13569.0</td>\n",
       "    </tr>\n",
       "    <tr>\n",
       "      <th>228</th>\n",
       "      <td>University of North Carolina--Greensboro</td>\n",
       "      <td>Greensboro, NC</td>\n",
       "      <td>220.0</td>\n",
       "      <td>21595.0</td>\n",
       "      <td>15951.0</td>\n",
       "    </tr>\n",
       "    <tr>\n",
       "      <th>229</th>\n",
       "      <td>University of Southern Mississippi</td>\n",
       "      <td>Hattiesburg, MS</td>\n",
       "      <td>220.0</td>\n",
       "      <td>16094.0</td>\n",
       "      <td>11840.0</td>\n",
       "    </tr>\n",
       "    <tr>\n",
       "      <th>230</th>\n",
       "      <td>Utah State University</td>\n",
       "      <td>Logan, UT</td>\n",
       "      <td>220.0</td>\n",
       "      <td>19772.0</td>\n",
       "      <td>25259.0</td>\n",
       "    </tr>\n",
       "  </tbody>\n",
       "</table>\n",
       "<p>231 rows × 5 columns</p>\n",
       "</div>"
      ],
      "text/plain": [
       "                                         Name             Location   Rank  \\\n",
       "0                        Princeton University        Princeton, NJ    1.0   \n",
       "1                          Harvard University        Cambridge, MA    2.0   \n",
       "2                       University of Chicago          Chicago, IL    3.0   \n",
       "3                             Yale University        New Haven, CT    3.0   \n",
       "4                         Columbia University         New York, NY    5.0   \n",
       "..                                        ...                  ...    ...   \n",
       "226    University of Massachusetts--Dartmouth  North Dartmouth, MA  220.0   \n",
       "227         University of Missouri--St. Louis        St. Louis, MO  220.0   \n",
       "228  University of North Carolina--Greensboro       Greensboro, NC  220.0   \n",
       "229        University of Southern Mississippi      Hattiesburg, MS  220.0   \n",
       "230                     Utah State University            Logan, UT  220.0   \n",
       "\n",
       "     Tuition and fees  Undergrad Enrollment  \n",
       "0             45320.0                5402.0  \n",
       "1             47074.0                6699.0  \n",
       "2             52491.0                5844.0  \n",
       "3             49480.0                5532.0  \n",
       "4             55056.0                6102.0  \n",
       "..                ...                   ...  \n",
       "226           19270.0                7295.0  \n",
       "227           26277.0               13569.0  \n",
       "228           21595.0               15951.0  \n",
       "229           16094.0               11840.0  \n",
       "230           19772.0               25259.0  \n",
       "\n",
       "[231 rows x 5 columns]"
      ]
     },
     "execution_count": 22,
     "metadata": {},
     "output_type": "execute_result"
    }
   ],
   "source": [
    "univ_txt = pd.read_csv('univ.txt',sep='\\t')\n",
    "univ_txt"
   ]
  },
  {
   "cell_type": "markdown",
   "id": "c9c72ce0",
   "metadata": {},
   "source": [
    "## III-2 \n",
    "### III-2(a) \n",
    "Find summary statistics of the data. Based on the statistics, answer parts b-e.\n",
    "\n",
    "*(1 point)*"
   ]
  },
  {
   "cell_type": "code",
   "execution_count": 23,
   "id": "01d4a51d",
   "metadata": {},
   "outputs": [
    {
     "data": {
      "text/html": [
       "<div>\n",
       "<style scoped>\n",
       "    .dataframe tbody tr th:only-of-type {\n",
       "        vertical-align: middle;\n",
       "    }\n",
       "\n",
       "    .dataframe tbody tr th {\n",
       "        vertical-align: top;\n",
       "    }\n",
       "\n",
       "    .dataframe thead th {\n",
       "        text-align: right;\n",
       "    }\n",
       "</style>\n",
       "<table border=\"1\" class=\"dataframe\">\n",
       "  <thead>\n",
       "    <tr style=\"text-align: right;\">\n",
       "      <th></th>\n",
       "      <th>Rank</th>\n",
       "      <th>Tuition and fees</th>\n",
       "      <th>Undergrad Enrollment</th>\n",
       "    </tr>\n",
       "  </thead>\n",
       "  <tbody>\n",
       "    <tr>\n",
       "      <th>count</th>\n",
       "      <td>231.000000</td>\n",
       "      <td>231.000000</td>\n",
       "      <td>231.000000</td>\n",
       "    </tr>\n",
       "    <tr>\n",
       "      <th>mean</th>\n",
       "      <td>113.982684</td>\n",
       "      <td>33769.246753</td>\n",
       "      <td>14946.619048</td>\n",
       "    </tr>\n",
       "    <tr>\n",
       "      <th>std</th>\n",
       "      <td>65.995518</td>\n",
       "      <td>10756.733516</td>\n",
       "      <td>10569.664095</td>\n",
       "    </tr>\n",
       "    <tr>\n",
       "      <th>min</th>\n",
       "      <td>1.000000</td>\n",
       "      <td>5300.000000</td>\n",
       "      <td>1001.000000</td>\n",
       "    </tr>\n",
       "    <tr>\n",
       "      <th>25%</th>\n",
       "      <td>56.000000</td>\n",
       "      <td>25693.000000</td>\n",
       "      <td>6238.500000</td>\n",
       "    </tr>\n",
       "    <tr>\n",
       "      <th>50%</th>\n",
       "      <td>111.000000</td>\n",
       "      <td>31608.000000</td>\n",
       "      <td>12949.000000</td>\n",
       "    </tr>\n",
       "    <tr>\n",
       "      <th>75%</th>\n",
       "      <td>171.000000</td>\n",
       "      <td>42721.000000</td>\n",
       "      <td>22145.500000</td>\n",
       "    </tr>\n",
       "    <tr>\n",
       "      <th>max</th>\n",
       "      <td>220.000000</td>\n",
       "      <td>55056.000000</td>\n",
       "      <td>54513.000000</td>\n",
       "    </tr>\n",
       "  </tbody>\n",
       "</table>\n",
       "</div>"
      ],
      "text/plain": [
       "             Rank  Tuition and fees  Undergrad Enrollment\n",
       "count  231.000000        231.000000            231.000000\n",
       "mean   113.982684      33769.246753          14946.619048\n",
       "std     65.995518      10756.733516          10569.664095\n",
       "min      1.000000       5300.000000           1001.000000\n",
       "25%     56.000000      25693.000000           6238.500000\n",
       "50%    111.000000      31608.000000          12949.000000\n",
       "75%    171.000000      42721.000000          22145.500000\n",
       "max    220.000000      55056.000000          54513.000000"
      ]
     },
     "execution_count": 23,
     "metadata": {},
     "output_type": "execute_result"
    }
   ],
   "source": [
    "univ_txt.describe()"
   ]
  },
  {
   "cell_type": "markdown",
   "id": "4f6efebe",
   "metadata": {},
   "source": [
    "### III-2(b) \n",
    "How many universities are there in the data set?\n",
    "\n",
    "*(2 points)*"
   ]
  },
  {
   "cell_type": "code",
   "execution_count": 24,
   "id": "825448b1",
   "metadata": {},
   "outputs": [
    {
     "data": {
      "text/plain": [
       "231"
      ]
     },
     "execution_count": 24,
     "metadata": {},
     "output_type": "execute_result"
    }
   ],
   "source": [
    "univ_txt.shape[0]"
   ]
  },
  {
   "cell_type": "markdown",
   "id": "80deee43",
   "metadata": {},
   "source": [
    "There are 231 universities in the data set."
   ]
  },
  {
   "cell_type": "markdown",
   "id": "cd1464ca",
   "metadata": {},
   "source": [
    "### III-2(c) \n",
    "Estimate the maximum tuition among universities that are in the bottom 25% when ranked by total tuition and fees.\n",
    "\n",
    "*(3 points)*"
   ]
  },
  {
   "cell_type": "markdown",
   "id": "081e47be",
   "metadata": {},
   "source": [
    "According to the summary statistics, the maximum tuition among universities that are in the bottom 25% is $25,693 (when ranked by total tuition and fees)."
   ]
  },
  {
   "cell_type": "markdown",
   "id": "1d971a64",
   "metadata": {},
   "source": [
    "### III-2(d) \n",
    "How many universities share the ranking of 220? (If `s` universities share the same rank, say `r`, then the next lower rank is `r+s`, and all the ranks in between `r` and `r+s` are dropped)\n",
    "\n",
    "*(5 points)*"
   ]
  },
  {
   "cell_type": "code",
   "execution_count": 25,
   "id": "21d34089",
   "metadata": {},
   "outputs": [
    {
     "data": {
      "text/plain": [
       "12"
      ]
     },
     "execution_count": 25,
     "metadata": {},
     "output_type": "execute_result"
    }
   ],
   "source": [
    "rank_220 = univ_txt.loc[:, 'Rank'] == 220.0\n",
    "\n",
    "len(univ_txt.loc[rank_220,:])"
   ]
  },
  {
   "cell_type": "markdown",
   "id": "37c42c9f",
   "metadata": {},
   "source": [
    "12 universities share the ranking of 220."
   ]
  },
  {
   "cell_type": "markdown",
   "id": "060e2558",
   "metadata": {},
   "source": [
    "### III-2(e)\n",
    "Can you find the mean fee for an undergrad student in the US from the summary statistics? Justify your answer.\n",
    "\n",
    "*(3 points)*"
   ]
  },
  {
   "cell_type": "markdown",
   "id": "7c132fe8",
   "metadata": {},
   "source": [
    "No, you cannot find the mean fee for an undergrad student in the US from the summary statistics. This is because the mean \"Tuition and Fees\" in the summary statistics is calculating the mean fee per university and not per undergrad student. Every university has a different number of students so the mean per undergrad student is not the same as mean per university."
   ]
  },
  {
   "cell_type": "markdown",
   "id": "932efb8d",
   "metadata": {},
   "source": [
    "## III-3\t\n",
    "Find the average `Tuition and fees` for an undergrad student in the US.\n",
    "\n",
    "*(5 points)*"
   ]
  },
  {
   "cell_type": "code",
   "execution_count": 26,
   "id": "7fba0cfa",
   "metadata": {},
   "outputs": [],
   "source": [
    "univ_txt[\"Total Tuition\"] = univ_txt[\"Tuition and fees\"] * univ_txt[\"Undergrad Enrollment\"]"
   ]
  },
  {
   "cell_type": "code",
   "execution_count": 27,
   "id": "149e8b9f",
   "metadata": {},
   "outputs": [
    {
     "name": "stdout",
     "output_type": "stream",
     "text": [
      "30845.32903298868\n"
     ]
    }
   ],
   "source": [
    "univ_txt[\"Total Tuition\"]\n",
    "\n",
    "total_tuition = 0\n",
    "total_students = 0\n",
    "\n",
    "for n in univ_txt[\"Total Tuition\"]:\n",
    "    total_tuition += n\n",
    "    \n",
    "for n in univ_txt[\"Undergrad Enrollment\"]:\n",
    "    total_students += n\n",
    "    \n",
    "print(total_tuition / total_students)"
   ]
  },
  {
   "cell_type": "markdown",
   "id": "93657285",
   "metadata": {},
   "source": [
    "The average tuition and fees for an undergrad student in the US is $30,845.33"
   ]
  }
 ],
 "metadata": {
  "kernelspec": {
   "display_name": "Python 3 (ipykernel)",
   "language": "python",
   "name": "python3"
  },
  "language_info": {
   "codemirror_mode": {
    "name": "ipython",
    "version": 3
   },
   "file_extension": ".py",
   "mimetype": "text/x-python",
   "name": "python",
   "nbconvert_exporter": "python",
   "pygments_lexer": "ipython3",
   "version": "3.9.12"
  }
 },
 "nbformat": 4,
 "nbformat_minor": 5
}
